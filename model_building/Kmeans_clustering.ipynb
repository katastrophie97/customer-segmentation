{
  "cells": [
    {
      "cell_type": "markdown",
      "source": [
        "## Importing the data"
      ],
      "metadata": {
        "id": "gf_Oo7NYuJ_-"
      }
    },
    {
      "cell_type": "code",
      "execution_count": null,
      "metadata": {
        "id": "WbSS07bqPKjp"
      },
      "outputs": [],
      "source": [
        "import numpy as np\n",
        "import pandas as pd\n",
        "import matplotlib.pyplot as plt\n",
        "import seaborn as sns"
      ]
    },
    {
      "cell_type": "code",
      "execution_count": null,
      "metadata": {
        "id": "xUpiRPlUSxdo"
      },
      "outputs": [],
      "source": [
        "!pip install -U -q PyDrive\n",
        "from pydrive.auth import GoogleAuth\n",
        "from pydrive.drive import GoogleDrive\n",
        "from google.colab import auth"
      ]
    },
    {
      "cell_type": "code",
      "execution_count": null,
      "metadata": {
        "id": "NjkRAwrCS5vM"
      },
      "outputs": [],
      "source": [
        "from oauth2client.client import GoogleCredentials"
      ]
    },
    {
      "cell_type": "code",
      "execution_count": null,
      "metadata": {
        "id": "3HSR1x66S-gF"
      },
      "outputs": [],
      "source": [
        "import warnings\n",
        "warnings.filterwarnings('ignore')"
      ]
    },
    {
      "cell_type": "code",
      "execution_count": null,
      "metadata": {
        "id": "FGK_LS8DTBfM"
      },
      "outputs": [],
      "source": [
        "auth.authenticate_user()\n",
        "gauth = GoogleAuth()\n",
        "gauth.credentials = GoogleCredentials.get_application_default()\n",
        "drive = GoogleDrive(gauth)"
      ]
    },
    {
      "cell_type": "code",
      "execution_count": null,
      "metadata": {
        "id": "4rT_uI2oTH1u"
      },
      "outputs": [],
      "source": [
        "#https://drive.google.com/file/d/1A4GmC86dRd4QFEl2nG6hFarXjFwAMYJF/view?usp=sharing\n",
        "\n",
        "fileDownloaded = drive.CreateFile({\"id\":\"1A4GmC86dRd4QFEl2nG6hFarXjFwAMYJF\"})"
      ]
    },
    {
      "cell_type": "code",
      "execution_count": null,
      "metadata": {
        "id": "2lFmoGwITbQL"
      },
      "outputs": [],
      "source": [
        "fileDownloaded.GetContentFile(\"cleaned_data.csv\")"
      ]
    },
    {
      "cell_type": "code",
      "execution_count": null,
      "metadata": {
        "colab": {
          "base_uri": "https://localhost:8080/",
          "height": 608
        },
        "id": "0pBUexXxQMR9",
        "outputId": "d0c070a5-a7af-4e6a-97aa-c8be5dd7b284"
      },
      "outputs": [
        {
          "output_type": "execute_result",
          "data": {
            "text/html": [
              "<div>\n",
              "<style scoped>\n",
              "    .dataframe tbody tr th:only-of-type {\n",
              "        vertical-align: middle;\n",
              "    }\n",
              "\n",
              "    .dataframe tbody tr th {\n",
              "        vertical-align: top;\n",
              "    }\n",
              "\n",
              "    .dataframe thead th {\n",
              "        text-align: right;\n",
              "    }\n",
              "</style>\n",
              "<table border=\"1\" class=\"dataframe\">\n",
              "  <thead>\n",
              "    <tr style=\"text-align: right;\">\n",
              "      <th></th>\n",
              "      <th>Unnamed: 0</th>\n",
              "      <th>Person Sequence Number - Person 1</th>\n",
              "      <th>city</th>\n",
              "      <th>state</th>\n",
              "      <th>zip</th>\n",
              "      <th>zip_plus4</th>\n",
              "      <th>Number of Children (Enhanced)</th>\n",
              "      <th>Advantage Target Income 3.0</th>\n",
              "      <th>Discretionary Spending Income</th>\n",
              "      <th>Target Net Worth 4.0 Code</th>\n",
              "      <th>NICHES 5.0 Code</th>\n",
              "      <th>Family composition (Enhanced)</th>\n",
              "      <th>Advantage Individual Marital Status - Person 1</th>\n",
              "      <th>Gender code - Person 1</th>\n",
              "      <th>Advantage Dwelling Type</th>\n",
              "      <th>Advantage Home Owner</th>\n",
              "      <th>Advantage Length of Residence</th>\n",
              "      <th>Family composition dummies</th>\n",
              "      <th>Marital Status dummies</th>\n",
              "      <th>Gender dummies</th>\n",
              "      <th>Dwelling Type dummies</th>\n",
              "      <th>Home Owner dummies</th>\n",
              "      <th>Length of Residence dummies</th>\n",
              "      <th>sum_overall</th>\n",
              "      <th>sum_automotive</th>\n",
              "      <th>sum_communicatoin</th>\n",
              "      <th>sum_education</th>\n",
              "      <th>sum_financial_services</th>\n",
              "      <th>sum_food_convenience_drug_store</th>\n",
              "      <th>sum_other_retail</th>\n",
              "      <th>sum_restaurant</th>\n",
              "      <th>sum_retail</th>\n",
              "      <th>sum_services</th>\n",
              "      <th>sum_travel</th>\n",
              "      <th>sum_communication</th>\n",
              "      <th>sum_entertainment</th>\n",
              "    </tr>\n",
              "  </thead>\n",
              "  <tbody>\n",
              "    <tr>\n",
              "      <th>0</th>\n",
              "      <td>0</td>\n",
              "      <td>3300572A0311940000A51A</td>\n",
              "      <td>ALEXANDRIA</td>\n",
              "      <td>VA</td>\n",
              "      <td>22314</td>\n",
              "      <td>1747</td>\n",
              "      <td>2.0</td>\n",
              "      <td>7.0</td>\n",
              "      <td>4.0</td>\n",
              "      <td>7.0</td>\n",
              "      <td>14.0</td>\n",
              "      <td>6.0</td>\n",
              "      <td>0.0</td>\n",
              "      <td>1.0</td>\n",
              "      <td>5.0</td>\n",
              "      <td>4.0</td>\n",
              "      <td>8.0</td>\n",
              "      <td>Male householder with one or more persons, wit...</td>\n",
              "      <td>Single</td>\n",
              "      <td>Male</td>\n",
              "      <td>Condo</td>\n",
              "      <td>Definite owner</td>\n",
              "      <td>20+ years</td>\n",
              "      <td>19100.0</td>\n",
              "      <td>965.0</td>\n",
              "      <td>2525.5</td>\n",
              "      <td>0.0</td>\n",
              "      <td>0.0</td>\n",
              "      <td>3476.0</td>\n",
              "      <td>1438.0</td>\n",
              "      <td>664.5</td>\n",
              "      <td>6067.5</td>\n",
              "      <td>25.5</td>\n",
              "      <td>601.0</td>\n",
              "      <td>2525.5</td>\n",
              "      <td>5200.5</td>\n",
              "    </tr>\n",
              "    <tr>\n",
              "      <th>1</th>\n",
              "      <td>1</td>\n",
              "      <td>3300572A0311FA019775B8</td>\n",
              "      <td>ALEXANDRIA</td>\n",
              "      <td>VA</td>\n",
              "      <td>22314</td>\n",
              "      <td>1768</td>\n",
              "      <td>2.0</td>\n",
              "      <td>12.0</td>\n",
              "      <td>10.0</td>\n",
              "      <td>10.0</td>\n",
              "      <td>9.0</td>\n",
              "      <td>12.0</td>\n",
              "      <td>0.0</td>\n",
              "      <td>1.0</td>\n",
              "      <td>1.0</td>\n",
              "      <td>4.0</td>\n",
              "      <td>5.0</td>\n",
              "      <td>One person, male householder, with no children</td>\n",
              "      <td>Single</td>\n",
              "      <td>Male</td>\n",
              "      <td>SFDU</td>\n",
              "      <td>Definite owner</td>\n",
              "      <td>6-10 years</td>\n",
              "      <td>29625.0</td>\n",
              "      <td>855.5</td>\n",
              "      <td>3130.0</td>\n",
              "      <td>0.0</td>\n",
              "      <td>0.0</td>\n",
              "      <td>6250.0</td>\n",
              "      <td>5255.0</td>\n",
              "      <td>4555.0</td>\n",
              "      <td>9550.0</td>\n",
              "      <td>163.0</td>\n",
              "      <td>3813.0</td>\n",
              "      <td>3130.0</td>\n",
              "      <td>776.5</td>\n",
              "    </tr>\n",
              "    <tr>\n",
              "      <th>2</th>\n",
              "      <td>2</td>\n",
              "      <td>330055F3030E0C000B3592</td>\n",
              "      <td>ALEXANDRIA</td>\n",
              "      <td>VA</td>\n",
              "      <td>22314</td>\n",
              "      <td>1771</td>\n",
              "      <td>3.0</td>\n",
              "      <td>13.0</td>\n",
              "      <td>9.0</td>\n",
              "      <td>11.0</td>\n",
              "      <td>3.0</td>\n",
              "      <td>2.0</td>\n",
              "      <td>1.0</td>\n",
              "      <td>2.0</td>\n",
              "      <td>5.0</td>\n",
              "      <td>4.0</td>\n",
              "      <td>4.0</td>\n",
              "      <td>Married, husband and wife present, with no chi...</td>\n",
              "      <td>Married</td>\n",
              "      <td>Female</td>\n",
              "      <td>Condo</td>\n",
              "      <td>Definite owner</td>\n",
              "      <td>3-5 years</td>\n",
              "      <td>10475.0</td>\n",
              "      <td>0.0</td>\n",
              "      <td>0.0</td>\n",
              "      <td>0.0</td>\n",
              "      <td>0.0</td>\n",
              "      <td>25.5</td>\n",
              "      <td>726.0</td>\n",
              "      <td>1064.0</td>\n",
              "      <td>8342.5</td>\n",
              "      <td>327.5</td>\n",
              "      <td>0.0</td>\n",
              "      <td>0.0</td>\n",
              "      <td>0.0</td>\n",
              "    </tr>\n",
              "    <tr>\n",
              "      <th>3</th>\n",
              "      <td>3</td>\n",
              "      <td>3300572A0310CF0001DD4F</td>\n",
              "      <td>ALEXANDRIA</td>\n",
              "      <td>VA</td>\n",
              "      <td>22314</td>\n",
              "      <td>1771</td>\n",
              "      <td>1.0</td>\n",
              "      <td>13.0</td>\n",
              "      <td>12.0</td>\n",
              "      <td>9.0</td>\n",
              "      <td>4.0</td>\n",
              "      <td>2.0</td>\n",
              "      <td>1.0</td>\n",
              "      <td>2.0</td>\n",
              "      <td>5.0</td>\n",
              "      <td>4.0</td>\n",
              "      <td>5.0</td>\n",
              "      <td>Married, husband and wife present, with no chi...</td>\n",
              "      <td>Married</td>\n",
              "      <td>Female</td>\n",
              "      <td>Condo</td>\n",
              "      <td>Definite owner</td>\n",
              "      <td>6-10 years</td>\n",
              "      <td>30000.0</td>\n",
              "      <td>3162.5</td>\n",
              "      <td>1450.0</td>\n",
              "      <td>0.0</td>\n",
              "      <td>525.0</td>\n",
              "      <td>6500.0</td>\n",
              "      <td>14325.0</td>\n",
              "      <td>3592.5</td>\n",
              "      <td>18600.0</td>\n",
              "      <td>926.5</td>\n",
              "      <td>6663.0</td>\n",
              "      <td>1450.0</td>\n",
              "      <td>628.0</td>\n",
              "    </tr>\n",
              "    <tr>\n",
              "      <th>4</th>\n",
              "      <td>4</td>\n",
              "      <td>3300571D0310C7000083BD</td>\n",
              "      <td>ALEXANDRIA</td>\n",
              "      <td>VA</td>\n",
              "      <td>22314</td>\n",
              "      <td>1792</td>\n",
              "      <td>1.0</td>\n",
              "      <td>6.0</td>\n",
              "      <td>4.0</td>\n",
              "      <td>3.0</td>\n",
              "      <td>10.0</td>\n",
              "      <td>12.0</td>\n",
              "      <td>0.0</td>\n",
              "      <td>1.0</td>\n",
              "      <td>5.0</td>\n",
              "      <td>4.0</td>\n",
              "      <td>5.0</td>\n",
              "      <td>One person, male householder, with no children</td>\n",
              "      <td>Single</td>\n",
              "      <td>Male</td>\n",
              "      <td>Condo</td>\n",
              "      <td>Definite owner</td>\n",
              "      <td>6-10 years</td>\n",
              "      <td>29875.0</td>\n",
              "      <td>563.5</td>\n",
              "      <td>3737.5</td>\n",
              "      <td>0.0</td>\n",
              "      <td>1001.0</td>\n",
              "      <td>7600.0</td>\n",
              "      <td>9550.0</td>\n",
              "      <td>1762.5</td>\n",
              "      <td>10655.0</td>\n",
              "      <td>2426.5</td>\n",
              "      <td>5950.5</td>\n",
              "      <td>3737.5</td>\n",
              "      <td>1175.0</td>\n",
              "    </tr>\n",
              "  </tbody>\n",
              "</table>\n",
              "</div>"
            ],
            "text/plain": [
              "   Unnamed: 0  ... sum_entertainment\n",
              "0           0  ...            5200.5\n",
              "1           1  ...             776.5\n",
              "2           2  ...               0.0\n",
              "3           3  ...             628.0\n",
              "4           4  ...            1175.0\n",
              "\n",
              "[5 rows x 36 columns]"
            ]
          },
          "metadata": {},
          "execution_count": 8
        }
      ],
      "source": [
        "import pandas as pd\n",
        "df = pd.read_csv(\"cleaned_data.csv\", encoding='utf-8')\n",
        "df.head()"
      ]
    },
    {
      "cell_type": "code",
      "execution_count": null,
      "metadata": {
        "id": "m1_0rv6jM-Pz",
        "colab": {
          "base_uri": "https://localhost:8080/",
          "height": 513
        },
        "outputId": "a72e76a5-9649-4361-bd45-3d327d63ff68"
      },
      "outputs": [
        {
          "output_type": "execute_result",
          "data": {
            "text/html": [
              "<div>\n",
              "<style scoped>\n",
              "    .dataframe tbody tr th:only-of-type {\n",
              "        vertical-align: middle;\n",
              "    }\n",
              "\n",
              "    .dataframe tbody tr th {\n",
              "        vertical-align: top;\n",
              "    }\n",
              "\n",
              "    .dataframe thead th {\n",
              "        text-align: right;\n",
              "    }\n",
              "</style>\n",
              "<table border=\"1\" class=\"dataframe\">\n",
              "  <thead>\n",
              "    <tr style=\"text-align: right;\">\n",
              "      <th></th>\n",
              "      <th>zip</th>\n",
              "      <th>zip_plus4</th>\n",
              "      <th>Number of Children (Enhanced)</th>\n",
              "      <th>Advantage Target Income 3.0</th>\n",
              "      <th>Discretionary Spending Income</th>\n",
              "      <th>Target Net Worth 4.0 Code</th>\n",
              "      <th>NICHES 5.0 Code</th>\n",
              "      <th>Family composition (Enhanced)</th>\n",
              "      <th>Advantage Individual Marital Status - Person 1</th>\n",
              "      <th>Gender code - Person 1</th>\n",
              "      <th>Advantage Dwelling Type</th>\n",
              "      <th>Advantage Home Owner</th>\n",
              "      <th>Advantage Length of Residence</th>\n",
              "      <th>sum_overall</th>\n",
              "      <th>sum_automotive</th>\n",
              "      <th>sum_communicatoin</th>\n",
              "      <th>sum_education</th>\n",
              "      <th>sum_financial_services</th>\n",
              "      <th>sum_food_convenience_drug_store</th>\n",
              "      <th>sum_other_retail</th>\n",
              "      <th>sum_restaurant</th>\n",
              "      <th>sum_retail</th>\n",
              "      <th>sum_services</th>\n",
              "      <th>sum_travel</th>\n",
              "      <th>sum_communication</th>\n",
              "      <th>sum_entertainment</th>\n",
              "    </tr>\n",
              "  </thead>\n",
              "  <tbody>\n",
              "    <tr>\n",
              "      <th>0</th>\n",
              "      <td>22314</td>\n",
              "      <td>1747</td>\n",
              "      <td>2.0</td>\n",
              "      <td>7.0</td>\n",
              "      <td>4.0</td>\n",
              "      <td>7.0</td>\n",
              "      <td>14.0</td>\n",
              "      <td>6.0</td>\n",
              "      <td>0.0</td>\n",
              "      <td>1.0</td>\n",
              "      <td>5.0</td>\n",
              "      <td>4.0</td>\n",
              "      <td>8.0</td>\n",
              "      <td>19100.0</td>\n",
              "      <td>965.0</td>\n",
              "      <td>2525.5</td>\n",
              "      <td>0.0</td>\n",
              "      <td>0.0</td>\n",
              "      <td>3476.0</td>\n",
              "      <td>1438.0</td>\n",
              "      <td>664.5</td>\n",
              "      <td>6067.5</td>\n",
              "      <td>25.5</td>\n",
              "      <td>601.0</td>\n",
              "      <td>2525.5</td>\n",
              "      <td>5200.5</td>\n",
              "    </tr>\n",
              "    <tr>\n",
              "      <th>1</th>\n",
              "      <td>22314</td>\n",
              "      <td>1768</td>\n",
              "      <td>2.0</td>\n",
              "      <td>12.0</td>\n",
              "      <td>10.0</td>\n",
              "      <td>10.0</td>\n",
              "      <td>9.0</td>\n",
              "      <td>12.0</td>\n",
              "      <td>0.0</td>\n",
              "      <td>1.0</td>\n",
              "      <td>1.0</td>\n",
              "      <td>4.0</td>\n",
              "      <td>5.0</td>\n",
              "      <td>29625.0</td>\n",
              "      <td>855.5</td>\n",
              "      <td>3130.0</td>\n",
              "      <td>0.0</td>\n",
              "      <td>0.0</td>\n",
              "      <td>6250.0</td>\n",
              "      <td>5255.0</td>\n",
              "      <td>4555.0</td>\n",
              "      <td>9550.0</td>\n",
              "      <td>163.0</td>\n",
              "      <td>3813.0</td>\n",
              "      <td>3130.0</td>\n",
              "      <td>776.5</td>\n",
              "    </tr>\n",
              "    <tr>\n",
              "      <th>2</th>\n",
              "      <td>22314</td>\n",
              "      <td>1771</td>\n",
              "      <td>3.0</td>\n",
              "      <td>13.0</td>\n",
              "      <td>9.0</td>\n",
              "      <td>11.0</td>\n",
              "      <td>3.0</td>\n",
              "      <td>2.0</td>\n",
              "      <td>1.0</td>\n",
              "      <td>2.0</td>\n",
              "      <td>5.0</td>\n",
              "      <td>4.0</td>\n",
              "      <td>4.0</td>\n",
              "      <td>10475.0</td>\n",
              "      <td>0.0</td>\n",
              "      <td>0.0</td>\n",
              "      <td>0.0</td>\n",
              "      <td>0.0</td>\n",
              "      <td>25.5</td>\n",
              "      <td>726.0</td>\n",
              "      <td>1064.0</td>\n",
              "      <td>8342.5</td>\n",
              "      <td>327.5</td>\n",
              "      <td>0.0</td>\n",
              "      <td>0.0</td>\n",
              "      <td>0.0</td>\n",
              "    </tr>\n",
              "    <tr>\n",
              "      <th>3</th>\n",
              "      <td>22314</td>\n",
              "      <td>1771</td>\n",
              "      <td>1.0</td>\n",
              "      <td>13.0</td>\n",
              "      <td>12.0</td>\n",
              "      <td>9.0</td>\n",
              "      <td>4.0</td>\n",
              "      <td>2.0</td>\n",
              "      <td>1.0</td>\n",
              "      <td>2.0</td>\n",
              "      <td>5.0</td>\n",
              "      <td>4.0</td>\n",
              "      <td>5.0</td>\n",
              "      <td>30000.0</td>\n",
              "      <td>3162.5</td>\n",
              "      <td>1450.0</td>\n",
              "      <td>0.0</td>\n",
              "      <td>525.0</td>\n",
              "      <td>6500.0</td>\n",
              "      <td>14325.0</td>\n",
              "      <td>3592.5</td>\n",
              "      <td>18600.0</td>\n",
              "      <td>926.5</td>\n",
              "      <td>6663.0</td>\n",
              "      <td>1450.0</td>\n",
              "      <td>628.0</td>\n",
              "    </tr>\n",
              "    <tr>\n",
              "      <th>4</th>\n",
              "      <td>22314</td>\n",
              "      <td>1792</td>\n",
              "      <td>1.0</td>\n",
              "      <td>6.0</td>\n",
              "      <td>4.0</td>\n",
              "      <td>3.0</td>\n",
              "      <td>10.0</td>\n",
              "      <td>12.0</td>\n",
              "      <td>0.0</td>\n",
              "      <td>1.0</td>\n",
              "      <td>5.0</td>\n",
              "      <td>4.0</td>\n",
              "      <td>5.0</td>\n",
              "      <td>29875.0</td>\n",
              "      <td>563.5</td>\n",
              "      <td>3737.5</td>\n",
              "      <td>0.0</td>\n",
              "      <td>1001.0</td>\n",
              "      <td>7600.0</td>\n",
              "      <td>9550.0</td>\n",
              "      <td>1762.5</td>\n",
              "      <td>10655.0</td>\n",
              "      <td>2426.5</td>\n",
              "      <td>5950.5</td>\n",
              "      <td>3737.5</td>\n",
              "      <td>1175.0</td>\n",
              "    </tr>\n",
              "    <tr>\n",
              "      <th>...</th>\n",
              "      <td>...</td>\n",
              "      <td>...</td>\n",
              "      <td>...</td>\n",
              "      <td>...</td>\n",
              "      <td>...</td>\n",
              "      <td>...</td>\n",
              "      <td>...</td>\n",
              "      <td>...</td>\n",
              "      <td>...</td>\n",
              "      <td>...</td>\n",
              "      <td>...</td>\n",
              "      <td>...</td>\n",
              "      <td>...</td>\n",
              "      <td>...</td>\n",
              "      <td>...</td>\n",
              "      <td>...</td>\n",
              "      <td>...</td>\n",
              "      <td>...</td>\n",
              "      <td>...</td>\n",
              "      <td>...</td>\n",
              "      <td>...</td>\n",
              "      <td>...</td>\n",
              "      <td>...</td>\n",
              "      <td>...</td>\n",
              "      <td>...</td>\n",
              "      <td>...</td>\n",
              "    </tr>\n",
              "    <tr>\n",
              "      <th>150931</th>\n",
              "      <td>20815</td>\n",
              "      <td>7284</td>\n",
              "      <td>2.0</td>\n",
              "      <td>13.0</td>\n",
              "      <td>10.0</td>\n",
              "      <td>11.0</td>\n",
              "      <td>9.0</td>\n",
              "      <td>14.0</td>\n",
              "      <td>1.0</td>\n",
              "      <td>2.0</td>\n",
              "      <td>5.0</td>\n",
              "      <td>4.0</td>\n",
              "      <td>7.0</td>\n",
              "      <td>28375.0</td>\n",
              "      <td>877.0</td>\n",
              "      <td>2288.0</td>\n",
              "      <td>0.0</td>\n",
              "      <td>0.0</td>\n",
              "      <td>11805.0</td>\n",
              "      <td>3900.0</td>\n",
              "      <td>1263.0</td>\n",
              "      <td>6368.0</td>\n",
              "      <td>214.5</td>\n",
              "      <td>6300.0</td>\n",
              "      <td>2288.0</td>\n",
              "      <td>413.0</td>\n",
              "    </tr>\n",
              "    <tr>\n",
              "      <th>150932</th>\n",
              "      <td>20815</td>\n",
              "      <td>7290</td>\n",
              "      <td>1.0</td>\n",
              "      <td>6.0</td>\n",
              "      <td>5.0</td>\n",
              "      <td>5.0</td>\n",
              "      <td>14.0</td>\n",
              "      <td>14.0</td>\n",
              "      <td>0.0</td>\n",
              "      <td>2.0</td>\n",
              "      <td>5.0</td>\n",
              "      <td>4.0</td>\n",
              "      <td>2.0</td>\n",
              "      <td>20875.0</td>\n",
              "      <td>326.5</td>\n",
              "      <td>726.5</td>\n",
              "      <td>0.0</td>\n",
              "      <td>2425.0</td>\n",
              "      <td>3787.5</td>\n",
              "      <td>4517.5</td>\n",
              "      <td>1363.0</td>\n",
              "      <td>7800.0</td>\n",
              "      <td>127.5</td>\n",
              "      <td>102.0</td>\n",
              "      <td>726.5</td>\n",
              "      <td>1037.5</td>\n",
              "    </tr>\n",
              "    <tr>\n",
              "      <th>150933</th>\n",
              "      <td>20816</td>\n",
              "      <td>1013</td>\n",
              "      <td>1.0</td>\n",
              "      <td>13.0</td>\n",
              "      <td>12.0</td>\n",
              "      <td>10.0</td>\n",
              "      <td>5.0</td>\n",
              "      <td>1.0</td>\n",
              "      <td>1.0</td>\n",
              "      <td>1.0</td>\n",
              "      <td>1.0</td>\n",
              "      <td>4.0</td>\n",
              "      <td>7.0</td>\n",
              "      <td>30000.0</td>\n",
              "      <td>15250.0</td>\n",
              "      <td>10100.0</td>\n",
              "      <td>0.0</td>\n",
              "      <td>4875.0</td>\n",
              "      <td>24250.0</td>\n",
              "      <td>29375.0</td>\n",
              "      <td>5005.0</td>\n",
              "      <td>29375.0</td>\n",
              "      <td>3855.5</td>\n",
              "      <td>28875.0</td>\n",
              "      <td>10100.0</td>\n",
              "      <td>9287.5</td>\n",
              "    </tr>\n",
              "    <tr>\n",
              "      <th>150934</th>\n",
              "      <td>20816</td>\n",
              "      <td>1030</td>\n",
              "      <td>2.0</td>\n",
              "      <td>13.0</td>\n",
              "      <td>12.0</td>\n",
              "      <td>8.0</td>\n",
              "      <td>2.0</td>\n",
              "      <td>2.0</td>\n",
              "      <td>1.0</td>\n",
              "      <td>2.0</td>\n",
              "      <td>1.0</td>\n",
              "      <td>4.0</td>\n",
              "      <td>5.0</td>\n",
              "      <td>28375.0</td>\n",
              "      <td>76.5</td>\n",
              "      <td>2180.0</td>\n",
              "      <td>0.0</td>\n",
              "      <td>25.5</td>\n",
              "      <td>5413.5</td>\n",
              "      <td>10800.0</td>\n",
              "      <td>1337.5</td>\n",
              "      <td>11500.0</td>\n",
              "      <td>1152.0</td>\n",
              "      <td>15837.5</td>\n",
              "      <td>2180.0</td>\n",
              "      <td>51.0</td>\n",
              "    </tr>\n",
              "    <tr>\n",
              "      <th>150935</th>\n",
              "      <td>20816</td>\n",
              "      <td>1051</td>\n",
              "      <td>2.0</td>\n",
              "      <td>13.0</td>\n",
              "      <td>12.0</td>\n",
              "      <td>9.0</td>\n",
              "      <td>2.0</td>\n",
              "      <td>1.0</td>\n",
              "      <td>1.0</td>\n",
              "      <td>1.0</td>\n",
              "      <td>1.0</td>\n",
              "      <td>4.0</td>\n",
              "      <td>8.0</td>\n",
              "      <td>28250.0</td>\n",
              "      <td>1338.5</td>\n",
              "      <td>0.0</td>\n",
              "      <td>0.0</td>\n",
              "      <td>0.0</td>\n",
              "      <td>8862.5</td>\n",
              "      <td>5162.5</td>\n",
              "      <td>3100.0</td>\n",
              "      <td>10925.0</td>\n",
              "      <td>4768.0</td>\n",
              "      <td>6263.0</td>\n",
              "      <td>0.0</td>\n",
              "      <td>1152.0</td>\n",
              "    </tr>\n",
              "  </tbody>\n",
              "</table>\n",
              "<p>150936 rows × 26 columns</p>\n",
              "</div>"
            ],
            "text/plain": [
              "          zip  zip_plus4  ...  sum_communication  sum_entertainment\n",
              "0       22314       1747  ...             2525.5             5200.5\n",
              "1       22314       1768  ...             3130.0              776.5\n",
              "2       22314       1771  ...                0.0                0.0\n",
              "3       22314       1771  ...             1450.0              628.0\n",
              "4       22314       1792  ...             3737.5             1175.0\n",
              "...       ...        ...  ...                ...                ...\n",
              "150931  20815       7284  ...             2288.0              413.0\n",
              "150932  20815       7290  ...              726.5             1037.5\n",
              "150933  20816       1013  ...            10100.0             9287.5\n",
              "150934  20816       1030  ...             2180.0               51.0\n",
              "150935  20816       1051  ...                0.0             1152.0\n",
              "\n",
              "[150936 rows x 26 columns]"
            ]
          },
          "metadata": {},
          "execution_count": 9
        }
      ],
      "source": [
        "column = [\"Unnamed: 0\",\"Person Sequence Number - Person 1\",\"city\",\"state\",\"Family composition dummies\",\"Marital Status dummies\",\"Gender dummies\",\"Dwelling Type dummies\",\"Home Owner dummies\",\"Length of Residence dummies\"]\n",
        "df1 = df.drop(columns = column)\n",
        "df1\n",
        "\n"
      ]
    },
    {
      "cell_type": "markdown",
      "source": [
        "## K-means clustering\n"
      ],
      "metadata": {
        "id": "A-g1MTYouP27"
      }
    },
    {
      "cell_type": "code",
      "source": [
        "\n",
        "from sklearn.cluster import KMeans\n",
        "from matplotlib import pyplot as plt\n",
        "\n",
        "from sklearn.datasets.samples_generator import make_blobs\n",
        "X, y_true = make_blobs(n_samples=300, centers=4,\n",
        "                       cluster_std=0.60, random_state=0)\n",
        "\n",
        "within_cluster_variance = [] # initiate empty list with no data\n",
        "\n",
        "# build models for range of ks from 2 to 20\n",
        "for k in range(2, 20):\n",
        "    kmeans = KMeans(n_clusters=k)\n",
        "    kmeans.fit(X)\n",
        "    within_cluster_variance.append(kmeans.inertia_)\n",
        "\n",
        "fig = plt.figure(figsize=(15, 5))\n",
        "plt.plot(range(2, 20), within_cluster_variance, marker='o')\n",
        "plt.grid(True)\n",
        "plt.xlabel('Number of clusters')\n",
        "plt.ylabel('Reduction in within cluster variation')\n",
        "\n",
        "plt.title('Elbow curve')  #Choose k at elbow of plot as a general rule.  We want a small enough number of categories to \n",
        "                          # such that we can still learn something meaningful from them via exploration of our variables."
      ],
      "metadata": {
        "id": "lp7TbnVJEpwa",
        "colab": {
          "base_uri": "https://localhost:8080/",
          "height": 374
        },
        "outputId": "9aafa21c-d261-4950-b401-524d1b90bcec"
      },
      "execution_count": null,
      "outputs": [
        {
          "output_type": "error",
          "ename": "ModuleNotFoundError",
          "evalue": "ignored",
          "traceback": [
            "\u001b[0;31m---------------------------------------------------------------------------\u001b[0m",
            "\u001b[0;31mModuleNotFoundError\u001b[0m                       Traceback (most recent call last)",
            "\u001b[0;32m<ipython-input-77-46061cd3a94f>\u001b[0m in \u001b[0;36m<module>\u001b[0;34m()\u001b[0m\n\u001b[1;32m      3\u001b[0m \u001b[0;32mfrom\u001b[0m \u001b[0mmatplotlib\u001b[0m \u001b[0;32mimport\u001b[0m \u001b[0mpyplot\u001b[0m \u001b[0;32mas\u001b[0m \u001b[0mplt\u001b[0m\u001b[0;34m\u001b[0m\u001b[0;34m\u001b[0m\u001b[0m\n\u001b[1;32m      4\u001b[0m \u001b[0;34m\u001b[0m\u001b[0m\n\u001b[0;32m----> 5\u001b[0;31m \u001b[0;32mfrom\u001b[0m \u001b[0msklearn\u001b[0m\u001b[0;34m.\u001b[0m\u001b[0mdatasets\u001b[0m\u001b[0;34m.\u001b[0m\u001b[0msamples_generator\u001b[0m \u001b[0;32mimport\u001b[0m \u001b[0mmake_blobs\u001b[0m\u001b[0;34m\u001b[0m\u001b[0;34m\u001b[0m\u001b[0m\n\u001b[0m\u001b[1;32m      6\u001b[0m X, y_true = make_blobs(n_samples=300, centers=4,\n\u001b[1;32m      7\u001b[0m                        cluster_std=0.60, random_state=0)\n",
            "\u001b[0;31mModuleNotFoundError\u001b[0m: No module named 'sklearn.datasets.samples_generator'",
            "",
            "\u001b[0;31m---------------------------------------------------------------------------\u001b[0;32m\nNOTE: If your import is failing due to a missing package, you can\nmanually install dependencies using either !pip or !apt.\n\nTo view examples of installing some common dependencies, click the\n\"Open Examples\" button below.\n\u001b[0;31m---------------------------------------------------------------------------\u001b[0m\n"
          ],
          "errorDetails": {
            "actions": [
              {
                "action": "open_url",
                "actionText": "Open Examples",
                "url": "/notebooks/snippets/importing_libraries.ipynb"
              }
            ]
          }
        }
      ]
    },
    {
      "cell_type": "markdown",
      "metadata": {
        "id": "g4ewkKyOiSQc"
      },
      "source": [
        "Hence, the optimal K value is found to be 5 using the elbow method."
      ]
    },
    {
      "cell_type": "code",
      "execution_count": null,
      "metadata": {
        "colab": {
          "base_uri": "https://localhost:8080/",
          "height": 140
        },
        "id": "vWEDXq4qiX78",
        "outputId": "5ca87803-56c5-4ffc-a27a-06766a5034bc"
      },
      "outputs": [
        {
          "output_type": "execute_result",
          "data": {
            "application/vnd.google.colaboratory.intrinsic+json": {
              "type": "string"
            },
            "text/plain": [
              "'\\nfrom mpl_toolkits.mplot3d import Axes3D\\nimport matplotlib.pyplot as plt\\nimport numpy as np\\nimport pandas as pd\\n \\nfig = plt.figure(figsize=(20,10))\\nax = fig.add_subplot(111, projection=\\'3d\\')\\n#Advantage Target Income 3.0,Advantage Dwelling Type,sum_automotive\\n\\nax.scatter(df[\"Advantage Target Income 3.0\"][df.label == 0], df[\"sum_overall\"][df.label == 0], df[\"sum_automotive\"][df.label == 0], c=\\'blue\\', s=60)\\nax.scatter(df[\"Advantage Target Income 3.0\"][df.label == 1], df[\"sum_overall\"][df.label == 1], df[\"sum_automotive\"][df.label == 1], c=\\'red\\', s=60)\\nax.scatter(df[\"Advantage Target Income 3.0\"][df.label == 2], df[\"sum_overall\"][df.label == 2], df[\"sum_automotive\"][df.label == 2], c=\\'green\\', s=60)\\nax.scatter(df[\"Advantage Target Income 3.0\"][df.label == 3], df[\"sum_overall\"][df.label == 3], df[\"sum_automotive\"][df.label == 3], c=\\'orange\\', s=60)\\nax.scatter(df[\"Advantage Target Income 3.0\"][df.label == 4], df[\"sum_overall\"][df.label == 4], df[\"sum_automotive\"][df.label == 4], c=\\'purple\\', s=60)\\nax.view_init(30, 185)\\nplt.xlabel(\"Target Income\")\\nplt.ylabel(\"sum_overall\")\\nax.set_zlabel(\\'sum_automotive\\')\\nplt.show()\\n'"
            ]
          },
          "metadata": {},
          "execution_count": 10
        }
      ],
      "source": [
        "from sklearn.cluster import KMeans\n",
        "km = KMeans(n_clusters=5)\n",
        "clusters = km.fit_predict(df1)\n",
        "df1[\"label\"] = clusters\n",
        "\n",
        "'''\n",
        "from mpl_toolkits.mplot3d import Axes3D\n",
        "import matplotlib.pyplot as plt\n",
        "import numpy as np\n",
        "import pandas as pd\n",
        " \n",
        "fig = plt.figure(figsize=(20,10))\n",
        "ax = fig.add_subplot(111, projection='3d')\n",
        "#Advantage Target Income 3.0,Advantage Dwelling Type,sum_automotive\n",
        "\n",
        "ax.scatter(df[\"Advantage Target Income 3.0\"][df.label == 0], df[\"sum_overall\"][df.label == 0], df[\"sum_automotive\"][df.label == 0], c='blue', s=60)\n",
        "ax.scatter(df[\"Advantage Target Income 3.0\"][df.label == 1], df[\"sum_overall\"][df.label == 1], df[\"sum_automotive\"][df.label == 1], c='red', s=60)\n",
        "ax.scatter(df[\"Advantage Target Income 3.0\"][df.label == 2], df[\"sum_overall\"][df.label == 2], df[\"sum_automotive\"][df.label == 2], c='green', s=60)\n",
        "ax.scatter(df[\"Advantage Target Income 3.0\"][df.label == 3], df[\"sum_overall\"][df.label == 3], df[\"sum_automotive\"][df.label == 3], c='orange', s=60)\n",
        "ax.scatter(df[\"Advantage Target Income 3.0\"][df.label == 4], df[\"sum_overall\"][df.label == 4], df[\"sum_automotive\"][df.label == 4], c='purple', s=60)\n",
        "ax.view_init(30, 185)\n",
        "plt.xlabel(\"Target Income\")\n",
        "plt.ylabel(\"sum_overall\")\n",
        "ax.set_zlabel('sum_automotive')\n",
        "plt.show()\n",
        "'''\n"
      ]
    },
    {
      "cell_type": "code",
      "source": [
        "df[\"label\"] = df1[\"label\"]\n",
        "df"
      ],
      "metadata": {
        "id": "BALJ9yvydb70",
        "colab": {
          "base_uri": "https://localhost:8080/",
          "height": 1000
        },
        "outputId": "5c0d105d-2253-45c1-ad84-eb7ca3110e3c"
      },
      "execution_count": null,
      "outputs": [
        {
          "output_type": "execute_result",
          "data": {
            "text/html": [
              "<div>\n",
              "<style scoped>\n",
              "    .dataframe tbody tr th:only-of-type {\n",
              "        vertical-align: middle;\n",
              "    }\n",
              "\n",
              "    .dataframe tbody tr th {\n",
              "        vertical-align: top;\n",
              "    }\n",
              "\n",
              "    .dataframe thead th {\n",
              "        text-align: right;\n",
              "    }\n",
              "</style>\n",
              "<table border=\"1\" class=\"dataframe\">\n",
              "  <thead>\n",
              "    <tr style=\"text-align: right;\">\n",
              "      <th></th>\n",
              "      <th>Unnamed: 0</th>\n",
              "      <th>Person Sequence Number - Person 1</th>\n",
              "      <th>city</th>\n",
              "      <th>state</th>\n",
              "      <th>zip</th>\n",
              "      <th>zip_plus4</th>\n",
              "      <th>Number of Children (Enhanced)</th>\n",
              "      <th>Advantage Target Income 3.0</th>\n",
              "      <th>Discretionary Spending Income</th>\n",
              "      <th>Target Net Worth 4.0 Code</th>\n",
              "      <th>NICHES 5.0 Code</th>\n",
              "      <th>Family composition (Enhanced)</th>\n",
              "      <th>Advantage Individual Marital Status - Person 1</th>\n",
              "      <th>Gender code - Person 1</th>\n",
              "      <th>Advantage Dwelling Type</th>\n",
              "      <th>Advantage Home Owner</th>\n",
              "      <th>Advantage Length of Residence</th>\n",
              "      <th>Family composition dummies</th>\n",
              "      <th>Marital Status dummies</th>\n",
              "      <th>Gender dummies</th>\n",
              "      <th>Dwelling Type dummies</th>\n",
              "      <th>Home Owner dummies</th>\n",
              "      <th>Length of Residence dummies</th>\n",
              "      <th>sum_overall</th>\n",
              "      <th>sum_automotive</th>\n",
              "      <th>sum_communicatoin</th>\n",
              "      <th>sum_education</th>\n",
              "      <th>sum_financial_services</th>\n",
              "      <th>sum_food_convenience_drug_store</th>\n",
              "      <th>sum_other_retail</th>\n",
              "      <th>sum_restaurant</th>\n",
              "      <th>sum_retail</th>\n",
              "      <th>sum_services</th>\n",
              "      <th>sum_travel</th>\n",
              "      <th>sum_communication</th>\n",
              "      <th>sum_entertainment</th>\n",
              "      <th>label</th>\n",
              "    </tr>\n",
              "  </thead>\n",
              "  <tbody>\n",
              "    <tr>\n",
              "      <th>0</th>\n",
              "      <td>0</td>\n",
              "      <td>3300572A0311940000A51A</td>\n",
              "      <td>ALEXANDRIA</td>\n",
              "      <td>VA</td>\n",
              "      <td>22314</td>\n",
              "      <td>1747</td>\n",
              "      <td>2.0</td>\n",
              "      <td>7.0</td>\n",
              "      <td>4.0</td>\n",
              "      <td>7.0</td>\n",
              "      <td>14.0</td>\n",
              "      <td>6.0</td>\n",
              "      <td>0.0</td>\n",
              "      <td>1.0</td>\n",
              "      <td>5.0</td>\n",
              "      <td>4.0</td>\n",
              "      <td>8.0</td>\n",
              "      <td>Male householder with one or more persons, wit...</td>\n",
              "      <td>Single</td>\n",
              "      <td>Male</td>\n",
              "      <td>Condo</td>\n",
              "      <td>Definite owner</td>\n",
              "      <td>20+ years</td>\n",
              "      <td>19100.0</td>\n",
              "      <td>965.0</td>\n",
              "      <td>2525.5</td>\n",
              "      <td>0.0</td>\n",
              "      <td>0.0</td>\n",
              "      <td>3476.0</td>\n",
              "      <td>1438.0</td>\n",
              "      <td>664.5</td>\n",
              "      <td>6067.5</td>\n",
              "      <td>25.5</td>\n",
              "      <td>601.0</td>\n",
              "      <td>2525.5</td>\n",
              "      <td>5200.5</td>\n",
              "      <td>2</td>\n",
              "    </tr>\n",
              "    <tr>\n",
              "      <th>1</th>\n",
              "      <td>1</td>\n",
              "      <td>3300572A0311FA019775B8</td>\n",
              "      <td>ALEXANDRIA</td>\n",
              "      <td>VA</td>\n",
              "      <td>22314</td>\n",
              "      <td>1768</td>\n",
              "      <td>2.0</td>\n",
              "      <td>12.0</td>\n",
              "      <td>10.0</td>\n",
              "      <td>10.0</td>\n",
              "      <td>9.0</td>\n",
              "      <td>12.0</td>\n",
              "      <td>0.0</td>\n",
              "      <td>1.0</td>\n",
              "      <td>1.0</td>\n",
              "      <td>4.0</td>\n",
              "      <td>5.0</td>\n",
              "      <td>One person, male householder, with no children</td>\n",
              "      <td>Single</td>\n",
              "      <td>Male</td>\n",
              "      <td>SFDU</td>\n",
              "      <td>Definite owner</td>\n",
              "      <td>6-10 years</td>\n",
              "      <td>29625.0</td>\n",
              "      <td>855.5</td>\n",
              "      <td>3130.0</td>\n",
              "      <td>0.0</td>\n",
              "      <td>0.0</td>\n",
              "      <td>6250.0</td>\n",
              "      <td>5255.0</td>\n",
              "      <td>4555.0</td>\n",
              "      <td>9550.0</td>\n",
              "      <td>163.0</td>\n",
              "      <td>3813.0</td>\n",
              "      <td>3130.0</td>\n",
              "      <td>776.5</td>\n",
              "      <td>3</td>\n",
              "    </tr>\n",
              "    <tr>\n",
              "      <th>2</th>\n",
              "      <td>2</td>\n",
              "      <td>330055F3030E0C000B3592</td>\n",
              "      <td>ALEXANDRIA</td>\n",
              "      <td>VA</td>\n",
              "      <td>22314</td>\n",
              "      <td>1771</td>\n",
              "      <td>3.0</td>\n",
              "      <td>13.0</td>\n",
              "      <td>9.0</td>\n",
              "      <td>11.0</td>\n",
              "      <td>3.0</td>\n",
              "      <td>2.0</td>\n",
              "      <td>1.0</td>\n",
              "      <td>2.0</td>\n",
              "      <td>5.0</td>\n",
              "      <td>4.0</td>\n",
              "      <td>4.0</td>\n",
              "      <td>Married, husband and wife present, with no chi...</td>\n",
              "      <td>Married</td>\n",
              "      <td>Female</td>\n",
              "      <td>Condo</td>\n",
              "      <td>Definite owner</td>\n",
              "      <td>3-5 years</td>\n",
              "      <td>10475.0</td>\n",
              "      <td>0.0</td>\n",
              "      <td>0.0</td>\n",
              "      <td>0.0</td>\n",
              "      <td>0.0</td>\n",
              "      <td>25.5</td>\n",
              "      <td>726.0</td>\n",
              "      <td>1064.0</td>\n",
              "      <td>8342.5</td>\n",
              "      <td>327.5</td>\n",
              "      <td>0.0</td>\n",
              "      <td>0.0</td>\n",
              "      <td>0.0</td>\n",
              "      <td>2</td>\n",
              "    </tr>\n",
              "    <tr>\n",
              "      <th>3</th>\n",
              "      <td>3</td>\n",
              "      <td>3300572A0310CF0001DD4F</td>\n",
              "      <td>ALEXANDRIA</td>\n",
              "      <td>VA</td>\n",
              "      <td>22314</td>\n",
              "      <td>1771</td>\n",
              "      <td>1.0</td>\n",
              "      <td>13.0</td>\n",
              "      <td>12.0</td>\n",
              "      <td>9.0</td>\n",
              "      <td>4.0</td>\n",
              "      <td>2.0</td>\n",
              "      <td>1.0</td>\n",
              "      <td>2.0</td>\n",
              "      <td>5.0</td>\n",
              "      <td>4.0</td>\n",
              "      <td>5.0</td>\n",
              "      <td>Married, husband and wife present, with no chi...</td>\n",
              "      <td>Married</td>\n",
              "      <td>Female</td>\n",
              "      <td>Condo</td>\n",
              "      <td>Definite owner</td>\n",
              "      <td>6-10 years</td>\n",
              "      <td>30000.0</td>\n",
              "      <td>3162.5</td>\n",
              "      <td>1450.0</td>\n",
              "      <td>0.0</td>\n",
              "      <td>525.0</td>\n",
              "      <td>6500.0</td>\n",
              "      <td>14325.0</td>\n",
              "      <td>3592.5</td>\n",
              "      <td>18600.0</td>\n",
              "      <td>926.5</td>\n",
              "      <td>6663.0</td>\n",
              "      <td>1450.0</td>\n",
              "      <td>628.0</td>\n",
              "      <td>1</td>\n",
              "    </tr>\n",
              "    <tr>\n",
              "      <th>4</th>\n",
              "      <td>4</td>\n",
              "      <td>3300571D0310C7000083BD</td>\n",
              "      <td>ALEXANDRIA</td>\n",
              "      <td>VA</td>\n",
              "      <td>22314</td>\n",
              "      <td>1792</td>\n",
              "      <td>1.0</td>\n",
              "      <td>6.0</td>\n",
              "      <td>4.0</td>\n",
              "      <td>3.0</td>\n",
              "      <td>10.0</td>\n",
              "      <td>12.0</td>\n",
              "      <td>0.0</td>\n",
              "      <td>1.0</td>\n",
              "      <td>5.0</td>\n",
              "      <td>4.0</td>\n",
              "      <td>5.0</td>\n",
              "      <td>One person, male householder, with no children</td>\n",
              "      <td>Single</td>\n",
              "      <td>Male</td>\n",
              "      <td>Condo</td>\n",
              "      <td>Definite owner</td>\n",
              "      <td>6-10 years</td>\n",
              "      <td>29875.0</td>\n",
              "      <td>563.5</td>\n",
              "      <td>3737.5</td>\n",
              "      <td>0.0</td>\n",
              "      <td>1001.0</td>\n",
              "      <td>7600.0</td>\n",
              "      <td>9550.0</td>\n",
              "      <td>1762.5</td>\n",
              "      <td>10655.0</td>\n",
              "      <td>2426.5</td>\n",
              "      <td>5950.5</td>\n",
              "      <td>3737.5</td>\n",
              "      <td>1175.0</td>\n",
              "      <td>3</td>\n",
              "    </tr>\n",
              "    <tr>\n",
              "      <th>...</th>\n",
              "      <td>...</td>\n",
              "      <td>...</td>\n",
              "      <td>...</td>\n",
              "      <td>...</td>\n",
              "      <td>...</td>\n",
              "      <td>...</td>\n",
              "      <td>...</td>\n",
              "      <td>...</td>\n",
              "      <td>...</td>\n",
              "      <td>...</td>\n",
              "      <td>...</td>\n",
              "      <td>...</td>\n",
              "      <td>...</td>\n",
              "      <td>...</td>\n",
              "      <td>...</td>\n",
              "      <td>...</td>\n",
              "      <td>...</td>\n",
              "      <td>...</td>\n",
              "      <td>...</td>\n",
              "      <td>...</td>\n",
              "      <td>...</td>\n",
              "      <td>...</td>\n",
              "      <td>...</td>\n",
              "      <td>...</td>\n",
              "      <td>...</td>\n",
              "      <td>...</td>\n",
              "      <td>...</td>\n",
              "      <td>...</td>\n",
              "      <td>...</td>\n",
              "      <td>...</td>\n",
              "      <td>...</td>\n",
              "      <td>...</td>\n",
              "      <td>...</td>\n",
              "      <td>...</td>\n",
              "      <td>...</td>\n",
              "      <td>...</td>\n",
              "      <td>...</td>\n",
              "    </tr>\n",
              "    <tr>\n",
              "      <th>150931</th>\n",
              "      <td>150931</td>\n",
              "      <td>1800514F030E0F00004869</td>\n",
              "      <td>CHEVY CHASE</td>\n",
              "      <td>MD</td>\n",
              "      <td>20815</td>\n",
              "      <td>7284</td>\n",
              "      <td>2.0</td>\n",
              "      <td>13.0</td>\n",
              "      <td>10.0</td>\n",
              "      <td>11.0</td>\n",
              "      <td>9.0</td>\n",
              "      <td>14.0</td>\n",
              "      <td>1.0</td>\n",
              "      <td>2.0</td>\n",
              "      <td>5.0</td>\n",
              "      <td>4.0</td>\n",
              "      <td>7.0</td>\n",
              "      <td>One person, female householder, with no children</td>\n",
              "      <td>Married</td>\n",
              "      <td>Female</td>\n",
              "      <td>Condo</td>\n",
              "      <td>Definite owner</td>\n",
              "      <td>16-20 years</td>\n",
              "      <td>28375.0</td>\n",
              "      <td>877.0</td>\n",
              "      <td>2288.0</td>\n",
              "      <td>0.0</td>\n",
              "      <td>0.0</td>\n",
              "      <td>11805.0</td>\n",
              "      <td>3900.0</td>\n",
              "      <td>1263.0</td>\n",
              "      <td>6368.0</td>\n",
              "      <td>214.5</td>\n",
              "      <td>6300.0</td>\n",
              "      <td>2288.0</td>\n",
              "      <td>413.0</td>\n",
              "      <td>3</td>\n",
              "    </tr>\n",
              "    <tr>\n",
              "      <th>150932</th>\n",
              "      <td>150932</td>\n",
              "      <td>1800514F0315190060D211</td>\n",
              "      <td>CHEVY CHASE</td>\n",
              "      <td>MD</td>\n",
              "      <td>20815</td>\n",
              "      <td>7290</td>\n",
              "      <td>1.0</td>\n",
              "      <td>6.0</td>\n",
              "      <td>5.0</td>\n",
              "      <td>5.0</td>\n",
              "      <td>14.0</td>\n",
              "      <td>14.0</td>\n",
              "      <td>0.0</td>\n",
              "      <td>2.0</td>\n",
              "      <td>5.0</td>\n",
              "      <td>4.0</td>\n",
              "      <td>2.0</td>\n",
              "      <td>One person, female householder, with no children</td>\n",
              "      <td>Single</td>\n",
              "      <td>Female</td>\n",
              "      <td>Condo</td>\n",
              "      <td>Definite owner</td>\n",
              "      <td>7-12 months</td>\n",
              "      <td>20875.0</td>\n",
              "      <td>326.5</td>\n",
              "      <td>726.5</td>\n",
              "      <td>0.0</td>\n",
              "      <td>2425.0</td>\n",
              "      <td>3787.5</td>\n",
              "      <td>4517.5</td>\n",
              "      <td>1363.0</td>\n",
              "      <td>7800.0</td>\n",
              "      <td>127.5</td>\n",
              "      <td>102.0</td>\n",
              "      <td>726.5</td>\n",
              "      <td>1037.5</td>\n",
              "      <td>2</td>\n",
              "    </tr>\n",
              "    <tr>\n",
              "      <th>150933</th>\n",
              "      <td>150933</td>\n",
              "      <td>18005151030E0C0016BE69</td>\n",
              "      <td>BETHESDA</td>\n",
              "      <td>MD</td>\n",
              "      <td>20816</td>\n",
              "      <td>1013</td>\n",
              "      <td>1.0</td>\n",
              "      <td>13.0</td>\n",
              "      <td>12.0</td>\n",
              "      <td>10.0</td>\n",
              "      <td>5.0</td>\n",
              "      <td>1.0</td>\n",
              "      <td>1.0</td>\n",
              "      <td>1.0</td>\n",
              "      <td>1.0</td>\n",
              "      <td>4.0</td>\n",
              "      <td>7.0</td>\n",
              "      <td>Married, husband and wife present, with children</td>\n",
              "      <td>Married</td>\n",
              "      <td>Male</td>\n",
              "      <td>SFDU</td>\n",
              "      <td>Definite owner</td>\n",
              "      <td>16-20 years</td>\n",
              "      <td>30000.0</td>\n",
              "      <td>15250.0</td>\n",
              "      <td>10100.0</td>\n",
              "      <td>0.0</td>\n",
              "      <td>4875.0</td>\n",
              "      <td>24250.0</td>\n",
              "      <td>29375.0</td>\n",
              "      <td>5005.0</td>\n",
              "      <td>29375.0</td>\n",
              "      <td>3855.5</td>\n",
              "      <td>28875.0</td>\n",
              "      <td>10100.0</td>\n",
              "      <td>9287.5</td>\n",
              "      <td>4</td>\n",
              "    </tr>\n",
              "    <tr>\n",
              "      <th>150934</th>\n",
              "      <td>150934</td>\n",
              "      <td>060167CD0311F30127ABF4</td>\n",
              "      <td>BETHESDA</td>\n",
              "      <td>MD</td>\n",
              "      <td>20816</td>\n",
              "      <td>1030</td>\n",
              "      <td>2.0</td>\n",
              "      <td>13.0</td>\n",
              "      <td>12.0</td>\n",
              "      <td>8.0</td>\n",
              "      <td>2.0</td>\n",
              "      <td>2.0</td>\n",
              "      <td>1.0</td>\n",
              "      <td>2.0</td>\n",
              "      <td>1.0</td>\n",
              "      <td>4.0</td>\n",
              "      <td>5.0</td>\n",
              "      <td>Married, husband and wife present, with no chi...</td>\n",
              "      <td>Married</td>\n",
              "      <td>Female</td>\n",
              "      <td>SFDU</td>\n",
              "      <td>Definite owner</td>\n",
              "      <td>6-10 years</td>\n",
              "      <td>28375.0</td>\n",
              "      <td>76.5</td>\n",
              "      <td>2180.0</td>\n",
              "      <td>0.0</td>\n",
              "      <td>25.5</td>\n",
              "      <td>5413.5</td>\n",
              "      <td>10800.0</td>\n",
              "      <td>1337.5</td>\n",
              "      <td>11500.0</td>\n",
              "      <td>1152.0</td>\n",
              "      <td>15837.5</td>\n",
              "      <td>2180.0</td>\n",
              "      <td>51.0</td>\n",
              "      <td>3</td>\n",
              "    </tr>\n",
              "    <tr>\n",
              "      <th>150935</th>\n",
              "      <td>150935</td>\n",
              "      <td>18005150030E0C00162052</td>\n",
              "      <td>BETHESDA</td>\n",
              "      <td>MD</td>\n",
              "      <td>20816</td>\n",
              "      <td>1051</td>\n",
              "      <td>2.0</td>\n",
              "      <td>13.0</td>\n",
              "      <td>12.0</td>\n",
              "      <td>9.0</td>\n",
              "      <td>2.0</td>\n",
              "      <td>1.0</td>\n",
              "      <td>1.0</td>\n",
              "      <td>1.0</td>\n",
              "      <td>1.0</td>\n",
              "      <td>4.0</td>\n",
              "      <td>8.0</td>\n",
              "      <td>Married, husband and wife present, with children</td>\n",
              "      <td>Married</td>\n",
              "      <td>Male</td>\n",
              "      <td>SFDU</td>\n",
              "      <td>Definite owner</td>\n",
              "      <td>20+ years</td>\n",
              "      <td>28250.0</td>\n",
              "      <td>1338.5</td>\n",
              "      <td>0.0</td>\n",
              "      <td>0.0</td>\n",
              "      <td>0.0</td>\n",
              "      <td>8862.5</td>\n",
              "      <td>5162.5</td>\n",
              "      <td>3100.0</td>\n",
              "      <td>10925.0</td>\n",
              "      <td>4768.0</td>\n",
              "      <td>6263.0</td>\n",
              "      <td>0.0</td>\n",
              "      <td>1152.0</td>\n",
              "      <td>3</td>\n",
              "    </tr>\n",
              "  </tbody>\n",
              "</table>\n",
              "<p>150936 rows × 37 columns</p>\n",
              "</div>"
            ],
            "text/plain": [
              "        Unnamed: 0 Person Sequence Number - Person 1  ... sum_entertainment label\n",
              "0                0            3300572A0311940000A51A  ...            5200.5     2\n",
              "1                1            3300572A0311FA019775B8  ...             776.5     3\n",
              "2                2            330055F3030E0C000B3592  ...               0.0     2\n",
              "3                3            3300572A0310CF0001DD4F  ...             628.0     1\n",
              "4                4            3300571D0310C7000083BD  ...            1175.0     3\n",
              "...            ...                               ...  ...               ...   ...\n",
              "150931      150931            1800514F030E0F00004869  ...             413.0     3\n",
              "150932      150932            1800514F0315190060D211  ...            1037.5     2\n",
              "150933      150933            18005151030E0C0016BE69  ...            9287.5     4\n",
              "150934      150934            060167CD0311F30127ABF4  ...              51.0     3\n",
              "150935      150935            18005150030E0C00162052  ...            1152.0     3\n",
              "\n",
              "[150936 rows x 37 columns]"
            ]
          },
          "metadata": {},
          "execution_count": 11
        }
      ]
    },
    {
      "cell_type": "markdown",
      "metadata": {
        "id": "Ryv_vEwpYfsd"
      },
      "source": [
        ""
      ]
    },
    {
      "cell_type": "code",
      "execution_count": null,
      "metadata": {
        "colab": {
          "base_uri": "https://localhost:8080/",
          "height": 575
        },
        "id": "rOzNFAJGYgLs",
        "outputId": "aa183f8c-c72a-48b1-b74e-8b6a73e94085"
      },
      "outputs": [
        {
          "data": {
            "image/png": "[encoded data removed]",
            "text/plain": [
              "<Figure size 1440x720 with 1 Axes>"
            ]
          },
          "metadata": {},
          "output_type": "display_data"
        }
      ],
      "source": [
        "'''\n",
        "km = KMeans(n_clusters=5)\n",
        "clusters = km.fit_predict(df)\n",
        "df[\"label\"] = clusters\n",
        "\n",
        "from mpl_toolkits.mplot3d import Axes3D\n",
        "import matplotlib.pyplot as plt\n",
        "import numpy as np\n",
        "import pandas as pd\n",
        " \n",
        "fig = plt.figure(figsize=(20,10))\n",
        "ax = fig.add_subplot(111, projection='3d')\n",
        "#Advantage Target Income 3.0,Advantage Dwelling Type,sum_automotive\n",
        "\n",
        "ax.scatter(df[\"Advantage Target Income 3.0\"][df.label == 0], df[\"Advantage Dwelling Type\"][df.label == 0], df[\"sum_automotive\"][df.label == 0], c='blue', s=60)\n",
        "ax.scatter(df[\"Advantage Target Income 3.0\"][df.label == 1], df[\"Advantage Dwelling Type\"][df.label == 1], df[\"sum_automotive\"][df.label == 1], c='red', s=60)\n",
        "ax.scatter(df[\"Advantage Target Income 3.0\"][df.label == 2], df[\"Advantage Dwelling Type\"][df.label == 2], df[\"sum_automotive\"][df.label == 2], c='green', s=60)\n",
        "ax.scatter(df[\"Advantage Target Income 3.0\"][df.label == 3], df[\"Advantage Dwelling Type\"][df.label == 3], df[\"sum_automotive\"][df.label == 3], c='orange', s=60)\n",
        "ax.scatter(df[\"Advantage Target Income 3.0\"][df.label == 4], df[\"Advantage Dwelling Type\"][df.label == 4], df[\"sum_automotive\"][df.label == 4], c='purple', s=60)\n",
        "ax.view_init(30, 185)\n",
        "plt.xlabel(\"Target Income\")\n",
        "plt.ylabel(\"Dwelling Type\")\n",
        "ax.set_zlabel('sum_automotive')\n",
        "plt.show()\n",
        "'''"
      ]
    },
    {
      "cell_type": "code",
      "execution_count": null,
      "metadata": {
        "colab": {
          "base_uri": "https://localhost:8080/",
          "height": 327
        },
        "id": "_CINgElmOGxT",
        "outputId": "d4c61253-0419-40b6-e708-4e1d73cc1a71"
      },
      "outputs": [
        {
          "output_type": "execute_result",
          "data": {
            "text/html": [
              "<div>\n",
              "<style scoped>\n",
              "    .dataframe tbody tr th:only-of-type {\n",
              "        vertical-align: middle;\n",
              "    }\n",
              "\n",
              "    .dataframe tbody tr th {\n",
              "        vertical-align: top;\n",
              "    }\n",
              "\n",
              "    .dataframe thead th {\n",
              "        text-align: right;\n",
              "    }\n",
              "</style>\n",
              "<table border=\"1\" class=\"dataframe\">\n",
              "  <thead>\n",
              "    <tr style=\"text-align: right;\">\n",
              "      <th></th>\n",
              "      <th>Unnamed: 0</th>\n",
              "      <th>zip</th>\n",
              "      <th>zip_plus4</th>\n",
              "      <th>Number of Children (Enhanced)</th>\n",
              "      <th>Advantage Target Income 3.0</th>\n",
              "      <th>Discretionary Spending Income</th>\n",
              "      <th>Target Net Worth 4.0 Code</th>\n",
              "      <th>NICHES 5.0 Code</th>\n",
              "      <th>Family composition (Enhanced)</th>\n",
              "      <th>Advantage Individual Marital Status - Person 1</th>\n",
              "      <th>Gender code - Person 1</th>\n",
              "      <th>Advantage Dwelling Type</th>\n",
              "      <th>Advantage Home Owner</th>\n",
              "      <th>Advantage Length of Residence</th>\n",
              "      <th>sum_overall</th>\n",
              "      <th>sum_automotive</th>\n",
              "      <th>sum_communicatoin</th>\n",
              "      <th>sum_education</th>\n",
              "      <th>sum_financial_services</th>\n",
              "      <th>sum_food_convenience_drug_store</th>\n",
              "      <th>sum_other_retail</th>\n",
              "      <th>sum_restaurant</th>\n",
              "      <th>sum_retail</th>\n",
              "      <th>sum_services</th>\n",
              "      <th>sum_travel</th>\n",
              "      <th>sum_communication</th>\n",
              "      <th>sum_entertainment</th>\n",
              "    </tr>\n",
              "    <tr>\n",
              "      <th>label</th>\n",
              "      <th></th>\n",
              "      <th></th>\n",
              "      <th></th>\n",
              "      <th></th>\n",
              "      <th></th>\n",
              "      <th></th>\n",
              "      <th></th>\n",
              "      <th></th>\n",
              "      <th></th>\n",
              "      <th></th>\n",
              "      <th></th>\n",
              "      <th></th>\n",
              "      <th></th>\n",
              "      <th></th>\n",
              "      <th></th>\n",
              "      <th></th>\n",
              "      <th></th>\n",
              "      <th></th>\n",
              "      <th></th>\n",
              "      <th></th>\n",
              "      <th></th>\n",
              "      <th></th>\n",
              "      <th></th>\n",
              "      <th></th>\n",
              "      <th></th>\n",
              "      <th></th>\n",
              "      <th></th>\n",
              "    </tr>\n",
              "  </thead>\n",
              "  <tbody>\n",
              "    <tr>\n",
              "      <th>0</th>\n",
              "      <td>64385.807073</td>\n",
              "      <td>22071.967649</td>\n",
              "      <td>4124.674632</td>\n",
              "      <td>1.594123</td>\n",
              "      <td>6.703625</td>\n",
              "      <td>4.164841</td>\n",
              "      <td>4.140995</td>\n",
              "      <td>13.367620</td>\n",
              "      <td>8.785334</td>\n",
              "      <td>0.574026</td>\n",
              "      <td>1.615862</td>\n",
              "      <td>1.745754</td>\n",
              "      <td>3.529152</td>\n",
              "      <td>5.512315</td>\n",
              "      <td>3547.549420</td>\n",
              "      <td>97.498003</td>\n",
              "      <td>101.092959</td>\n",
              "      <td>0.000637</td>\n",
              "      <td>64.588327</td>\n",
              "      <td>749.672254</td>\n",
              "      <td>312.077176</td>\n",
              "      <td>383.625775</td>\n",
              "      <td>1587.774428</td>\n",
              "      <td>109.668664</td>\n",
              "      <td>130.176053</td>\n",
              "      <td>101.092959</td>\n",
              "      <td>51.394174</td>\n",
              "    </tr>\n",
              "    <tr>\n",
              "      <th>1</th>\n",
              "      <td>81836.602424</td>\n",
              "      <td>21817.297647</td>\n",
              "      <td>3972.065256</td>\n",
              "      <td>1.794101</td>\n",
              "      <td>9.695936</td>\n",
              "      <td>7.183834</td>\n",
              "      <td>6.907314</td>\n",
              "      <td>7.449585</td>\n",
              "      <td>4.790236</td>\n",
              "      <td>0.758978</td>\n",
              "      <td>1.536643</td>\n",
              "      <td>1.520282</td>\n",
              "      <td>3.831063</td>\n",
              "      <td>6.006604</td>\n",
              "      <td>29952.310593</td>\n",
              "      <td>3426.880371</td>\n",
              "      <td>3215.831119</td>\n",
              "      <td>0.568014</td>\n",
              "      <td>2905.305846</td>\n",
              "      <td>10152.897182</td>\n",
              "      <td>12308.987823</td>\n",
              "      <td>4752.653721</td>\n",
              "      <td>20481.129798</td>\n",
              "      <td>1430.122819</td>\n",
              "      <td>7284.441161</td>\n",
              "      <td>3215.831119</td>\n",
              "      <td>1672.855848</td>\n",
              "    </tr>\n",
              "    <tr>\n",
              "      <th>2</th>\n",
              "      <td>75437.052989</td>\n",
              "      <td>22133.780944</td>\n",
              "      <td>3836.906142</td>\n",
              "      <td>1.629426</td>\n",
              "      <td>7.592312</td>\n",
              "      <td>4.995960</td>\n",
              "      <td>5.102916</td>\n",
              "      <td>11.568737</td>\n",
              "      <td>7.685855</td>\n",
              "      <td>0.611911</td>\n",
              "      <td>1.568800</td>\n",
              "      <td>1.661680</td>\n",
              "      <td>3.659219</td>\n",
              "      <td>5.795714</td>\n",
              "      <td>16024.667913</td>\n",
              "      <td>622.798491</td>\n",
              "      <td>694.423925</td>\n",
              "      <td>0.019851</td>\n",
              "      <td>627.326816</td>\n",
              "      <td>3240.151865</td>\n",
              "      <td>2058.092075</td>\n",
              "      <td>1386.500426</td>\n",
              "      <td>6654.326674</td>\n",
              "      <td>433.098087</td>\n",
              "      <td>935.937322</td>\n",
              "      <td>694.423925</td>\n",
              "      <td>267.499842</td>\n",
              "    </tr>\n",
              "    <tr>\n",
              "      <th>3</th>\n",
              "      <td>80118.306600</td>\n",
              "      <td>21912.627051</td>\n",
              "      <td>3894.081979</td>\n",
              "      <td>1.669080</td>\n",
              "      <td>8.441879</td>\n",
              "      <td>5.944571</td>\n",
              "      <td>5.852323</td>\n",
              "      <td>9.671359</td>\n",
              "      <td>6.916418</td>\n",
              "      <td>0.644383</td>\n",
              "      <td>1.552085</td>\n",
              "      <td>1.660063</td>\n",
              "      <td>3.720175</td>\n",
              "      <td>5.817257</td>\n",
              "      <td>27355.857007</td>\n",
              "      <td>1766.927865</td>\n",
              "      <td>1891.341728</td>\n",
              "      <td>0.235729</td>\n",
              "      <td>1775.359361</td>\n",
              "      <td>6011.760225</td>\n",
              "      <td>5607.167101</td>\n",
              "      <td>2693.621590</td>\n",
              "      <td>12330.223582</td>\n",
              "      <td>824.279173</td>\n",
              "      <td>3571.169505</td>\n",
              "      <td>1891.341728</td>\n",
              "      <td>780.569693</td>\n",
              "    </tr>\n",
              "    <tr>\n",
              "      <th>4</th>\n",
              "      <td>83697.719532</td>\n",
              "      <td>21689.700665</td>\n",
              "      <td>3990.454645</td>\n",
              "      <td>1.886549</td>\n",
              "      <td>11.000505</td>\n",
              "      <td>8.563716</td>\n",
              "      <td>7.951823</td>\n",
              "      <td>5.707909</td>\n",
              "      <td>2.819338</td>\n",
              "      <td>0.837531</td>\n",
              "      <td>1.522362</td>\n",
              "      <td>1.329571</td>\n",
              "      <td>3.903478</td>\n",
              "      <td>6.101575</td>\n",
              "      <td>29999.957888</td>\n",
              "      <td>6746.703108</td>\n",
              "      <td>5574.697381</td>\n",
              "      <td>1.395098</td>\n",
              "      <td>5052.793102</td>\n",
              "      <td>17493.568685</td>\n",
              "      <td>22328.441043</td>\n",
              "      <td>8482.311379</td>\n",
              "      <td>26702.585067</td>\n",
              "      <td>2544.507328</td>\n",
              "      <td>14845.199486</td>\n",
              "      <td>5574.697381</td>\n",
              "      <td>3994.487029</td>\n",
              "    </tr>\n",
              "  </tbody>\n",
              "</table>\n",
              "</div>"
            ],
            "text/plain": [
              "         Unnamed: 0           zip  ...  sum_communication  sum_entertainment\n",
              "label                              ...                                      \n",
              "0      64385.807073  22071.967649  ...         101.092959          51.394174\n",
              "1      81836.602424  21817.297647  ...        3215.831119        1672.855848\n",
              "2      75437.052989  22133.780944  ...         694.423925         267.499842\n",
              "3      80118.306600  21912.627051  ...        1891.341728         780.569693\n",
              "4      83697.719532  21689.700665  ...        5574.697381        3994.487029\n",
              "\n",
              "[5 rows x 27 columns]"
            ]
          },
          "metadata": {},
          "execution_count": 12
        }
      ],
      "source": [
        "  df_kmeans = df.groupby('label').mean()\n",
        "  df_kmeans"
      ]
    },
    {
      "cell_type": "markdown",
      "source": [
        "## Clusters "
      ],
      "metadata": {
        "id": "aQvfUkm4WzTj"
      }
    },
    {
      "cell_type": "code",
      "source": [
        "df_kmeans_1 = df.loc[df['label']== 1]\n",
        "df_kmeans_2 = df.loc[df['label']== 3]\n",
        "df_kmeans_3 = df.loc[df['label']== 4]\n",
        "df_kmeans_4 = df.loc[df['label']== 2]\n",
        "df_kmeans_5 = df.loc[df['label']== 0]"
      ],
      "metadata": {
        "id": "5gGhytf2Wz8Q"
      },
      "execution_count": null,
      "outputs": []
    },
    {
      "cell_type": "code",
      "source": [
        "df_kmeans_1.value_counts(\"Family composition dummies\", normalize = True)\n"
      ],
      "metadata": {
        "id": "bXnoiHEBDmrs",
        "colab": {
          "base_uri": "https://localhost:8080/"
        },
        "outputId": "7a19f5f9-3245-4f6c-e612-1af8c883afa9"
      },
      "execution_count": null,
      "outputs": [
        {
          "output_type": "execute_result",
          "data": {
            "text/plain": [
              "Family composition dummies\n",
              "Married, husband and wife present, with no children                  0.404443\n",
              "Married, husband and wife present, with children                     0.234043\n",
              "One person, female householder, with no children                     0.109835\n",
              "One person, male householder, with no children                       0.079027\n",
              "Male householder with one or more persons, with no children          0.046493\n",
              "Female householder with one or more persons, with no children        0.038688\n",
              "Female householder with one or more persons, with children           0.025367\n",
              "One person, female householder, with children                        0.019438\n",
              "Male householder with one or more persons, with children             0.016811\n",
              "One male and one female, marital status unknown, with no children    0.014147\n",
              "One person, male householder, with children                          0.007430\n",
              "One male and one female, marital status unknown, with children       0.003677\n",
              "One person, unknown gender, with no children                         0.000525\n",
              "Two or more persons of unknown gender with no children               0.000075\n",
              "dtype: float64"
            ]
          },
          "metadata": {},
          "execution_count": 14
        }
      ]
    },
    {
      "cell_type": "code",
      "source": [
        "df_kmeans_2.value_counts(\"Family composition dummies\" ,normalize = True)"
      ],
      "metadata": {
        "colab": {
          "base_uri": "https://localhost:8080/"
        },
        "id": "S_6CYJ_UhYrq",
        "outputId": "bafe4cfd-12a9-4c2c-82e4-9c2aa2fbc58d"
      },
      "execution_count": null,
      "outputs": [
        {
          "output_type": "execute_result",
          "data": {
            "text/plain": [
              "Family composition dummies\n",
              "One person, female householder, with no children                     0.263527\n",
              "One person, male householder, with no children                       0.199024\n",
              "Married, husband and wife present, with no children                  0.169948\n",
              "Female householder with one or more persons, with children           0.142146\n",
              "Married, husband and wife present, with children                     0.069455\n",
              "Female householder with one or more persons, with no children        0.037804\n",
              "One person, female householder, with children                        0.037142\n",
              "Male householder with one or more persons, with no children          0.032950\n",
              "One male and one female, marital status unknown, with no children    0.018657\n",
              "One person, male householder, with children                          0.013876\n",
              "Male householder with one or more persons, with children             0.008679\n",
              "One male and one female, marital status unknown, with children       0.003947\n",
              "One person, unknown gender, with no children                         0.001667\n",
              "Two or more persons of unknown gender with children                  0.000858\n",
              "Two or more persons of unknown gender with no children               0.000270\n",
              "One person, unknown gender, with children                            0.000049\n",
              "dtype: float64"
            ]
          },
          "metadata": {},
          "execution_count": 106
        }
      ]
    },
    {
      "cell_type": "code",
      "source": [
        "df_kmeans_3.value_counts(\"Family composition dummies\",  normalize = True)"
      ],
      "metadata": {
        "colab": {
          "base_uri": "https://localhost:8080/"
        },
        "id": "-heFeFGVhdL0",
        "outputId": "a2973adb-c1f6-471d-cf55-ff05c79c13c5"
      },
      "execution_count": null,
      "outputs": [
        {
          "output_type": "execute_result",
          "data": {
            "text/plain": [
              "Family composition dummies\n",
              "Married, husband and wife present, with no children                  0.468776\n",
              "Married, husband and wife present, with children                     0.351877\n",
              "Male householder with one or more persons, with no children          0.037452\n",
              "One person, female householder, with no children                     0.031981\n",
              "Female householder with one or more persons, with no children        0.028867\n",
              "Female householder with one or more persons, with children           0.021209\n",
              "Male householder with one or more persons, with children             0.019357\n",
              "One person, male householder, with no children                       0.018768\n",
              "One male and one female, marital status unknown, with no children    0.010099\n",
              "One person, female householder, with children                        0.006649\n",
              "One male and one female, marital status unknown, with children       0.003114\n",
              "One person, male householder, with children                          0.001852\n",
              "dtype: float64"
            ]
          },
          "metadata": {},
          "execution_count": 107
        }
      ]
    },
    {
      "cell_type": "code",
      "source": [
        "df_kmeans_4.value_counts(\"Family composition dummies\",  normalize = True)"
      ],
      "metadata": {
        "colab": {
          "base_uri": "https://localhost:8080/"
        },
        "id": "bY4rtKL-hXcx",
        "outputId": "283ef2d5-233e-4280-aa0f-dd27b89d6332"
      },
      "execution_count": null,
      "outputs": [
        {
          "output_type": "execute_result",
          "data": {
            "text/plain": [
              "Family composition dummies\n",
              "Married, husband and wife present, with no children                  0.308835\n",
              "One person, female householder, with no children                     0.201999\n",
              "One person, male householder, with no children                       0.156158\n",
              "Married, husband and wife present, with children                     0.145813\n",
              "Female householder with one or more persons, with no children        0.044012\n",
              "Male householder with one or more persons, with no children          0.042434\n",
              "One person, female householder, with children                        0.029934\n",
              "Female householder with one or more persons, with children           0.022144\n",
              "One male and one female, marital status unknown, with no children    0.016933\n",
              "Male householder with one or more persons, with children             0.014378\n",
              "One person, male householder, with children                          0.012575\n",
              "One male and one female, marital status unknown, with children       0.003933\n",
              "One person, unknown gender, with no children                         0.000751\n",
              "Two or more persons of unknown gender with no children               0.000050\n",
              "Two or more persons of unknown gender with children                  0.000050\n",
              "dtype: float64"
            ]
          },
          "metadata": {},
          "execution_count": 108
        }
      ]
    },
    {
      "cell_type": "code",
      "source": [
        "df_kmeans_5.value_counts(\"Family composition dummies\",  normalize = True)"
      ],
      "metadata": {
        "colab": {
          "base_uri": "https://localhost:8080/"
        },
        "id": "Ri7Wuh0Shi2J",
        "outputId": "30c21adc-91c1-49bc-c8d4-f6d0803adde0"
      },
      "execution_count": null,
      "outputs": [
        {
          "output_type": "execute_result",
          "data": {
            "text/plain": [
              "Family composition dummies\n",
              "Married, husband and wife present, with no children                  0.404388\n",
              "Married, husband and wife present, with children                     0.233940\n",
              "One person, female householder, with no children                     0.109882\n",
              "One person, male householder, with no children                       0.079055\n",
              "Male householder with one or more persons, with no children          0.046465\n",
              "Female householder with one or more persons, with no children        0.038740\n",
              "Female householder with one or more persons, with children           0.025352\n",
              "One person, female householder, with children                        0.019464\n",
              "Male householder with one or more persons, with children             0.016839\n",
              "One male and one female, marital status unknown, with no children    0.014176\n",
              "One person, male householder, with children                          0.007425\n",
              "One male and one female, marital status unknown, with children       0.003675\n",
              "One person, unknown gender, with no children                         0.000525\n",
              "Two or more persons of unknown gender with no children               0.000075\n",
              "dtype: float64"
            ]
          },
          "metadata": {},
          "execution_count": 109
        }
      ]
    },
    {
      "cell_type": "code",
      "source": [
        "df_kmeans_1.value_counts(\"Gender dummies\",  normalize = True)"
      ],
      "metadata": {
        "colab": {
          "base_uri": "https://localhost:8080/"
        },
        "id": "hhDjd3Foh2se",
        "outputId": "a2052627-8322-443b-8626-5ba88a869c78"
      },
      "execution_count": null,
      "outputs": [
        {
          "output_type": "execute_result",
          "data": {
            "text/plain": [
              "Gender dummies\n",
              "Female    0.56861\n",
              "Male      0.43139\n",
              "dtype: float64"
            ]
          },
          "metadata": {},
          "execution_count": 110
        }
      ]
    },
    {
      "cell_type": "code",
      "source": [
        "df_kmeans_2.value_counts(\"Gender dummies\",  normalize = True)"
      ],
      "metadata": {
        "colab": {
          "base_uri": "https://localhost:8080/"
        },
        "id": "j3pIJmCkh25u",
        "outputId": "605e1bac-e8f5-4101-90e5-d462b520b5fc"
      },
      "execution_count": null,
      "outputs": [
        {
          "output_type": "execute_result",
          "data": {
            "text/plain": [
              "Gender dummies\n",
              "Female     0.615656\n",
              "Male       0.384197\n",
              "Neutral    0.000147\n",
              "dtype: float64"
            ]
          },
          "metadata": {},
          "execution_count": 111
        }
      ]
    },
    {
      "cell_type": "code",
      "source": [
        "df_kmeans_3.value_counts(\"Gender dummies\",  normalize = True)"
      ],
      "metadata": {
        "colab": {
          "base_uri": "https://localhost:8080/"
        },
        "id": "6hdCq-4Ph3Bi",
        "outputId": "0df7759b-120f-4e50-8b5f-3b033fdf3ab8"
      },
      "execution_count": null,
      "outputs": [
        {
          "output_type": "execute_result",
          "data": {
            "text/plain": [
              "Gender dummies\n",
              "Female    0.522471\n",
              "Male      0.477529\n",
              "dtype: float64"
            ]
          },
          "metadata": {},
          "execution_count": 112
        }
      ]
    },
    {
      "cell_type": "code",
      "source": [
        "df_kmeans_4.value_counts(\"Gender dummies\",  normalize = True)"
      ],
      "metadata": {
        "colab": {
          "base_uri": "https://localhost:8080/"
        },
        "id": "H2qvHOOuh3GB",
        "outputId": "3ce5dbbd-6a9e-4717-b3e8-3a57cc8fb73b"
      },
      "execution_count": null,
      "outputs": [
        {
          "output_type": "execute_result",
          "data": {
            "text/plain": [
              "Gender dummies\n",
              "Female    0.55209\n",
              "Male      0.44791\n",
              "dtype: float64"
            ]
          },
          "metadata": {},
          "execution_count": 113
        }
      ]
    },
    {
      "cell_type": "code",
      "source": [
        "df_kmeans_5.value_counts(\"Gender dummies\",  normalize = True)"
      ],
      "metadata": {
        "colab": {
          "base_uri": "https://localhost:8080/"
        },
        "id": "jhTXj-xmh3I6",
        "outputId": "0a9ded65-b1c7-4049-9b2f-26dc8e5e45c4"
      },
      "execution_count": null,
      "outputs": [
        {
          "output_type": "execute_result",
          "data": {
            "text/plain": [
              "Gender dummies\n",
              "Female     0.536584\n",
              "Male       0.463341\n",
              "Neutral    0.000075\n",
              "dtype: float64"
            ]
          },
          "metadata": {},
          "execution_count": 114
        }
      ]
    },
    {
      "cell_type": "code",
      "source": [
        "df_kmeans_1.value_counts(\"city\",  normalize = True)"
      ],
      "metadata": {
        "colab": {
          "base_uri": "https://localhost:8080/"
        },
        "id": "hPAjM6ZHh3L6",
        "outputId": "7c76ea19-8d87-47b5-c462-d44c92e29449"
      },
      "execution_count": null,
      "outputs": [
        {
          "output_type": "execute_result",
          "data": {
            "text/plain": [
              "city\n",
              "WASHINGTON      0.038227\n",
              "VIRGINIA BCH    0.034502\n",
              "BALTIMORE       0.027368\n",
              "ALEXANDRIA      0.023233\n",
              "RICHMOND        0.023107\n",
              "                  ...   \n",
              "NEWARK          0.000032\n",
              "NEWINGTON       0.000032\n",
              "OAKWOOD         0.000032\n",
              "CALLANDS        0.000032\n",
              "ABELL           0.000032\n",
              "Length: 976, dtype: float64"
            ]
          },
          "metadata": {},
          "execution_count": 119
        }
      ]
    },
    {
      "cell_type": "code",
      "source": [
        "df_kmeans_2.value_counts(\"city\",  normalize = True)"
      ],
      "metadata": {
        "colab": {
          "base_uri": "https://localhost:8080/"
        },
        "id": "-8P24gpdiZ_z",
        "outputId": "00886466-35ee-4137-966b-8177bcd48d76"
      },
      "execution_count": null,
      "outputs": [
        {
          "output_type": "execute_result",
          "data": {
            "text/plain": [
              "city\n",
              "WASHINGTON       0.076687\n",
              "FREDERICKSBRG    0.041629\n",
              "LAUREL           0.036652\n",
              "GLEN ALLEN       0.034470\n",
              "WESTMINSTER      0.033735\n",
              "                   ...   \n",
              "CERES            0.000025\n",
              "CECILTON         0.000025\n",
              "PHENIX           0.000025\n",
              "PHILOMONT        0.000025\n",
              "CHAMPLAIN        0.000025\n",
              "Length: 992, dtype: float64"
            ]
          },
          "metadata": {},
          "execution_count": 120
        }
      ]
    },
    {
      "cell_type": "code",
      "source": [
        "df_kmeans_3.value_counts(\"city\",  normalize = True)"
      ],
      "metadata": {
        "colab": {
          "base_uri": "https://localhost:8080/"
        },
        "id": "L0-fRGDziieI",
        "outputId": "f5263be9-627a-4331-882a-3737b1a12426"
      },
      "execution_count": null,
      "outputs": [
        {
          "output_type": "execute_result",
          "data": {
            "text/plain": [
              "city\n",
              "VIRGINIA BCH    0.023818\n",
              "ALEXANDRIA      0.022892\n",
              "WASHINGTON      0.022387\n",
              "ASHBURN         0.018684\n",
              "ARLINGTON       0.018431\n",
              "                  ...   \n",
              "DARLINGTON      0.000084\n",
              "MILLWOOD        0.000084\n",
              "MONROE          0.000084\n",
              "TROUTDALE       0.000084\n",
              "KENNEDYVILLE    0.000084\n",
              "Length: 579, dtype: float64"
            ]
          },
          "metadata": {},
          "execution_count": 121
        }
      ]
    },
    {
      "cell_type": "code",
      "source": [
        "df_kmeans_4.value_counts(\"city\",  normalize = True)"
      ],
      "metadata": {
        "colab": {
          "base_uri": "https://localhost:8080/"
        },
        "id": "J95--y9Tjh30",
        "outputId": "58174a3e-164e-486a-fbe5-43ec0860ce9f"
      },
      "execution_count": null,
      "outputs": [
        {
          "output_type": "execute_result",
          "data": {
            "text/plain": [
              "city\n",
              "WASHINGTON       0.041707\n",
              "VIRGINIA BCH     0.030911\n",
              "BALTIMORE        0.027279\n",
              "ALEXANDRIA       0.025801\n",
              "RICHMOND         0.019689\n",
              "                   ...   \n",
              "RED OAK          0.000025\n",
              "CHESTER GAP      0.000025\n",
              "RICH CREEK       0.000025\n",
              "RICHARDSVILLE    0.000025\n",
              "POUND            0.000025\n",
              "Length: 949, dtype: float64"
            ]
          },
          "metadata": {},
          "execution_count": 122
        }
      ]
    },
    {
      "cell_type": "code",
      "source": [
        "df_kmeans_5.value_counts(\"city\")"
      ],
      "metadata": {
        "colab": {
          "base_uri": "https://localhost:8080/"
        },
        "id": "ffX7JGTQjlyr",
        "outputId": "df44e779-fd9d-4689-9371-78307da5c551"
      },
      "execution_count": null,
      "outputs": [
        {
          "output_type": "execute_result",
          "data": {
            "text/plain": [
              "city\n",
              "WASHINGTON      805\n",
              "VIRGINIA BCH    743\n",
              "ALEXANDRIA      652\n",
              "BALTIMORE       579\n",
              "CHESAPEAKE      483\n",
              "               ... \n",
              "LOW MOOR          1\n",
              "FANCY GAP         1\n",
              "LOVEVILLE         1\n",
              "ROSE HILL         1\n",
              "COBBS CREEK       1\n",
              "Length: 831, dtype: int64"
            ]
          },
          "metadata": {},
          "execution_count": 123
        }
      ]
    },
    {
      "cell_type": "code",
      "execution_count": null,
      "metadata": {
        "colab": {
          "base_uri": "https://localhost:8080/"
        },
        "id": "gcCSV2WBTBaW",
        "outputId": "c4c532f6-d45d-4a8c-de83-dc3a9718aa85"
      },
      "outputs": [
        {
          "data": {
            "text/plain": [
              "Number of Children (Enhanced)                     2.535230e+05\n",
              "Advantage Target Income 3.0                       1.240136e+06\n",
              "Discretionary Spending Income                     8.586960e+05\n",
              "Target Net Worth 4.0 Code                         8.427950e+05\n",
              "NICHES 5.0 Code                                   1.564429e+06\n",
              "Family composition (Enhanced)                     1.039269e+06\n",
              "Advantage Individual Marital Status - Person 1    9.870800e+04\n",
              "Gender code - Person 1                            2.366330e+05\n",
              "Advantage Dwelling Type                           2.464620e+05\n",
              "Advantage Home Owner                              5.569140e+05\n",
              "Advantage Length of Residence                     8.733300e+05\n",
              "sum_automotive                                    2.656833e+08\n",
              "sum_communicatoin                                 2.535273e+08\n",
              "sum_education                                     4.176750e+04\n",
              "sum_financial_services                            2.308094e+08\n",
              "sum_food_convenience_drug_store                   8.515416e+08\n",
              "sum_other_retail                                  8.949403e+08\n",
              "sum_restaurant                                    3.944925e+08\n",
              "sum_retail                                        1.630761e+09\n",
              "sum_services                                      1.194296e+08\n",
              "sum_travel                                        5.479268e+08\n",
              "dtype: float64"
            ]
          },
          "execution_count": 16,
          "metadata": {},
          "output_type": "execute_result"
        }
      ],
      "source": [
        "X.sum()"
      ]
    },
    {
      "cell_type": "code",
      "execution_count": null,
      "metadata": {
        "id": "bhtR2n8hUqlh"
      },
      "outputs": [],
      "source": [
        "ax.scatter(df[\"Advantage Target Income 3.0\"][df.label == 0], df[\"Advantage Dwelling Type\"][df.label == 0], df[\"sum_automotive\"][df.label == 0], c='blue', s=60)\n",
        "ax.scatter(df[\"Advantage Target Income 3.0\"][df.label == 1], df[\"Advantage Dwelling Type\"][df.label == 1], df[\"sum_automotive\"][df.label == 1], c='red', s=60)\n",
        "ax.scatter(df[\"Advantage Target Income 3.0\"][df.label == 2], df[\"Advantage Dwelling Type\"][df.label == 2], df[\"sum_automotive\"][df.label == 2], c='green', s=60)\n",
        "ax.scatter(df[\"Advantage Target Income 3.0\"][df.label == 3], df[\"Advantage Dwelling Type\"][df.label == 3], df[\"sum_automotive\"][df.label == 3], c='orange', s=60)\n",
        "ax.scatter(df[\"Advantage Target Income 3.0\"][df.label == 4], df[\"Advantage Dwelling Type\"][df.label == 4], df[\"sum_automotive\"][df.label == 4], c='purple', s=60)\n",
        "ax.view_init(30, 185)\n",
        "plt.xlabel(\"Target Income\")\n",
        "plt.ylabel(\"Dwelling Type\")\n",
        "ax.set_zlabel('sum_automotive')\n",
        "plt.show()"
      ]
    },
    {
      "cell_type": "code",
      "execution_count": null,
      "metadata": {
        "colab": {
          "base_uri": "https://localhost:8080/"
        },
        "id": "bL8DSFErY1Od",
        "outputId": "a19c3b0b-1834-4cc5-9220-1d2b7433b257"
      },
      "outputs": [
        {
          "data": {
            "text/plain": [
              "(150936, 2)"
            ]
          },
          "execution_count": 81,
          "metadata": {},
          "output_type": "execute_result"
        }
      ],
      "source": [
        "#Importing required modules\n",
        " \n",
        "from sklearn.datasets import load_digits\n",
        "from sklearn.decomposition import PCA\n",
        "from sklearn.cluster import KMeans\n",
        "import numpy as np\n",
        " \n",
        "#Load Data\n",
        "pca = PCA(2)\n",
        "#Transform the data\n",
        "df = pca.fit_transform(df)\n",
        " \n",
        "df.shape"
      ]
    },
    {
      "cell_type": "code",
      "execution_count": null,
      "metadata": {
        "colab": {
          "base_uri": "https://localhost:8080/"
        },
        "id": "T_DD7Oa9Y8ol",
        "outputId": "10ea7c9c-5655-4398-fb8c-267f1e46a88b"
      },
      "outputs": [
        {
          "name": "stdout",
          "output_type": "stream",
          "text": [
            "[3 0 3 ... 2 4 0]\n"
          ]
        }
      ],
      "source": [
        "#Import required module\n",
        "from sklearn.cluster import KMeans\n",
        " \n",
        "#Initialize the class object\n",
        "kmeans = KMeans(n_clusters= 5)\n",
        " \n",
        "#predict the labels of clusters.\n",
        "label = kmeans.fit_predict(df)\n",
        " \n",
        "print(label)"
      ]
    },
    {
      "cell_type": "code",
      "execution_count": null,
      "metadata": {
        "colab": {
          "base_uri": "https://localhost:8080/",
          "height": 265
        },
        "id": "frtfoeWRZELx",
        "outputId": "68675a40-fc17-4365-8f26-685a43d5a340"
      },
      "outputs": [
        {
          "data": {
            "image/png": "[encoded data removed]",
            "text/plain": [
              "<Figure size 432x288 with 1 Axes>"
            ]
          },
          "metadata": {},
          "output_type": "display_data"
        }
      ],
      "source": [
        "#Getting unique labels\n",
        " \n",
        "u_labels = np.unique(label)\n",
        " \n",
        "#plotting the results:\n",
        " \n",
        "for i in u_labels:\n",
        "    plt.scatter(df[label == i , 0] , df[label == i , 1] , label = i)\n",
        "plt.legend()\n",
        "plt.show()"
      ]
    },
    {
      "cell_type": "code",
      "execution_count": null,
      "metadata": {
        "id": "tie9_rZrZL-3"
      },
      "outputs": [],
      "source": [
        "import seaborn as sns\n",
        "sns.barplot[df]"
      ]
    },
    {
      "cell_type": "code",
      "execution_count": null,
      "metadata": {
        "colab": {
          "base_uri": "https://localhost:8080/",
          "height": 227
        },
        "id": "LDoy2z1eclXR",
        "outputId": "1d34827a-370f-4193-e593-bd299fb879cf"
      },
      "outputs": [
        {
          "output_type": "stream",
          "name": "stdout",
          "text": [
            "Mounted at /drive\n"
          ]
        },
        {
          "output_type": "error",
          "ename": "AttributeError",
          "evalue": "ignored",
          "traceback": [
            "\u001b[0;31m---------------------------------------------------------------------------\u001b[0m",
            "\u001b[0;31mAttributeError\u001b[0m                            Traceback (most recent call last)",
            "\u001b[0;32m<ipython-input-14-a317a3f8c5e9>\u001b[0m in \u001b[0;36m<module>\u001b[0;34m()\u001b[0m\n\u001b[1;32m      1\u001b[0m \u001b[0;32mfrom\u001b[0m \u001b[0mgoogle\u001b[0m\u001b[0;34m.\u001b[0m\u001b[0mcolab\u001b[0m \u001b[0;32mimport\u001b[0m  \u001b[0mdrive\u001b[0m\u001b[0;34m\u001b[0m\u001b[0;34m\u001b[0m\u001b[0m\n\u001b[1;32m      2\u001b[0m \u001b[0mdrive\u001b[0m\u001b[0;34m.\u001b[0m\u001b[0mmount\u001b[0m\u001b[0;34m(\u001b[0m\u001b[0;34m'/drive'\u001b[0m\u001b[0;34m)\u001b[0m\u001b[0;34m\u001b[0m\u001b[0;34m\u001b[0m\u001b[0m\n\u001b[0;32m----> 3\u001b[0;31m \u001b[0mdf_kmeans\u001b[0m\u001b[0;34m.\u001b[0m\u001b[0mto_csv\u001b[0m\u001b[0;34m(\u001b[0m\u001b[0;34m'/drive/My Drive/cluster_results.csv'\u001b[0m\u001b[0;34m)\u001b[0m\u001b[0;34m\u001b[0m\u001b[0;34m\u001b[0m\u001b[0m\n\u001b[0m",
            "\u001b[0;31mAttributeError\u001b[0m: 'NoneType' object has no attribute 'to_csv'"
          ]
        }
      ],
      "source": [
        "from google.colab import  drive\n",
        "drive.mount('/drive')\n",
        "df_kmeans.to_csv('/drive/My Drive/cluster_results.csv')"
      ]
    }
  ],
  "metadata": {
    "colab": {
      "collapsed_sections": [],
      "name": "Kmeans_clustering.ipynb",
      "provenance": []
    },
    "kernelspec": {
      "display_name": "Python 3",
      "name": "python3"
    },
    "language_info": {
      "name": "python"
    }
  },
  "nbformat": 4,
  "nbformat_minor": 0
}